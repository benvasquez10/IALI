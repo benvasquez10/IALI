{
 "cells": [
  {
   "cell_type": "markdown",
   "id": "6e62a1f2",
   "metadata": {},
   "source": [
    "Versión que entrena el diccionario incluyendo la clase \"Sin grupo\""
   ]
  },
  {
   "cell_type": "markdown",
   "id": "b5e1ca62",
   "metadata": {},
   "source": [
    "## 1. Librerías y datasets"
   ]
  },
  {
   "cell_type": "code",
   "execution_count": 1,
   "id": "235a22ad",
   "metadata": {},
   "outputs": [],
   "source": [
    "import pandas as pd\n",
    "import numpy as np\n",
    "import nltk\n",
    "import re\n",
    "import pickle\n",
    "\n",
    "from nltk.corpus import stopwords\n",
    "from nltk.tokenize import word_tokenize\n",
    "from unicodedata import normalize\n",
    "\n",
    "import matplotlib.pyplot as plt\n",
    "import plotly.express as px\n",
    "import plotly.graph_objects as go\n",
    "import seaborn as sns"
   ]
  },
  {
   "cell_type": "code",
   "execution_count": 2,
   "id": "aacaa7f7",
   "metadata": {},
   "outputs": [],
   "source": [
    "import warnings\n",
    "warnings.filterwarnings('ignore')"
   ]
  },
  {
   "cell_type": "code",
   "execution_count": 3,
   "id": "99a413ee",
   "metadata": {
    "scrolled": true
   },
   "outputs": [],
   "source": [
    "train = pd.read_excel(\"Dicc_desde2021.xlsx\")\n",
    "x_train = train[[\"Titulo\", \"g\"]]\n",
    "test = pd.read_excel(\"PORTAL_1_2022_04.xlsx\")\n",
    "x_test = test.iloc[:,0]"
   ]
  },
  {
   "cell_type": "code",
   "execution_count": 4,
   "id": "83866795",
   "metadata": {},
   "outputs": [
    {
     "data": {
      "text/plain": [
       "<AxesSubplot:xlabel='g', ylabel='count'>"
      ]
     },
     "execution_count": 4,
     "metadata": {},
     "output_type": "execute_result"
    },
    {
     "data": {
      "image/png": "[encoded data removed]",
      "text/plain": [
       "<Figure size 1080x288 with 1 Axes>"
      ]
     },
     "metadata": {
      "needs_background": "light"
     },
     "output_type": "display_data"
    }
   ],
   "source": [
    "plt.figure(figsize=(15,4))\n",
    "sns.countplot(x=\"g\", data=x_train)"
   ]
  },
  {
   "cell_type": "code",
   "execution_count": 5,
   "id": "6b404cb1",
   "metadata": {},
   "outputs": [
    {
     "name": "stdout",
     "output_type": "stream",
     "text": [
      "Porcentaje de missings:\n"
     ]
    },
    {
     "data": {
      "text/plain": [
       "0.74"
      ]
     },
     "execution_count": 5,
     "metadata": {},
     "output_type": "execute_result"
    }
   ],
   "source": [
    "print(\"Porcentaje de missings:\")\n",
    "round(len(x_train[x_train[\"g\"]==\"N\"])/len(x_train)*100, 2)"
   ]
  },
  {
   "cell_type": "code",
   "execution_count": 6,
   "id": "9d2e0f95",
   "metadata": {},
   "outputs": [],
   "source": [
    "x_train[\"g\"] = np.where(x_train[\"g\"]==\"N\", 10, x_train[\"g\"])\n",
    "x_train[\"g\"] = x_train[\"g\"].astype(int)"
   ]
  },
  {
   "cell_type": "code",
   "execution_count": 7,
   "id": "6bd7adaf",
   "metadata": {},
   "outputs": [
    {
     "data": {
      "text/plain": [
       "2     60026\n",
       "4     51729\n",
       "5     51397\n",
       "3     48954\n",
       "9     26554\n",
       "7     19312\n",
       "8     15056\n",
       "1     13749\n",
       "0      7511\n",
       "10     2209\n",
       "6       445\n",
       "Name: g, dtype: int64"
      ]
     },
     "execution_count": 7,
     "metadata": {},
     "output_type": "execute_result"
    }
   ],
   "source": [
    "x_train[\"g\"].value_counts()"
   ]
  },
  {
   "cell_type": "markdown",
   "id": "2a322909",
   "metadata": {},
   "source": [
    "## 2. Funciones y stopwords"
   ]
  },
  {
   "cell_type": "code",
   "execution_count": 8,
   "id": "b9897693",
   "metadata": {},
   "outputs": [],
   "source": [
    "# (1) Función que toma una lista con las palabras de una frase y elimina los stopwords\n",
    "\n",
    "def drop_stopwords(string, stop_words_list):\n",
    "    word_tokens = word_tokenize(string)\n",
    "    frase = \"\"\n",
    "    for i, word in enumerate(word_tokens):\n",
    "        if not word in stop_words_list and i == 0 and word!=\"\":\n",
    "            frase = word\n",
    "        elif word == \"\":\n",
    "            continue\n",
    "        elif not word in stop_words_list:\n",
    "            frase = frase + \" \" + word\n",
    "    return frase"
   ]
  },
  {
   "cell_type": "code",
   "execution_count": 9,
   "id": "a0038b71",
   "metadata": {},
   "outputs": [],
   "source": [
    "# (2) Función que quita espacios al incio o al final\n",
    "\n",
    "def quita_espacio(string):\n",
    "    frase = \"\"\n",
    "    tokenized = word_tokenize(string)\n",
    "    for i, word in enumerate(tokenized):\n",
    "        if i==0:\n",
    "            frase = word\n",
    "        else:\n",
    "            frase = frase + \" \" + word\n",
    "    return frase"
   ]
  },
  {
   "cell_type": "code",
   "execution_count": 10,
   "id": "894e2721",
   "metadata": {},
   "outputs": [],
   "source": [
    "# (3) Función que recibe una lista de texto y los normaliza\n",
    "\n",
    "def limpia_texto(list_raw):\n",
    "\n",
    "    list_text = [string.lower() for string in  list_raw]\n",
    "\n",
    "    #puntuación. Se elimina toda la puntuacion excepto palabras y espacios. Se eliminan múltiples espacios.\n",
    "    list_text = [re.sub(r'[^\\w\\s]', '', string) for string in list_text]\n",
    "    list_text = [re.sub(' +', ' ', string) for string in list_text]\n",
    "\n",
    "    #acentuación\n",
    "    list_text = [re.sub(r'([^n\\u0300-\\u036f]|n(?!\\u0303(?![\\u0300-\\u036f])))[\\u0300-\\u036f]+', r'\\1', \n",
    "                normalize( \"NFD\", string), 0, re.I) for string in list_text]\n",
    "\n",
    "    #Remover números\n",
    "    list_text = [re.sub(r'\\d+', '', string) for string in list_text] #remoción de números\n",
    "    list_text = [re.sub(' +', ' ', string) for string in list_text] #remoción de doble espaciado\n",
    "\n",
    "    #Remover stopwords\n",
    "    list_text = [drop_stopwords(string, stop_words3) for string in list_text]\n",
    "\n",
    "    #Quita espacio\n",
    "    list_text = [quita_espacio(string) for string in list_text]\n",
    "    \n",
    "    return list_text"
   ]
  },
  {
   "cell_type": "code",
   "execution_count": 16,
   "id": "e6e15e6d",
   "metadata": {},
   "outputs": [],
   "source": [
    "#Stop words: stop words español + comunas + extras\n",
    "\n",
    "stop_words = stopwords.words(\"spanish\")\n",
    "\n",
    "comuna = pd.read_excel(\"comunas.xlsx\")\n",
    "\n",
    "#obtención de comunas, provincias y regiones\n",
    "provincias = comuna.provincia.unique().tolist()\n",
    "regiones = comuna.region.unique().tolist()\n",
    "comunas = comuna.comuna.tolist() + provincias + regiones\n",
    "\n",
    "#acentuación y stopwords a comunas\n",
    "comunas2 = [re.sub(r'([^n\\u0300-\\u036f]|n(?!\\u0303(?![\\u0300-\\u036f])))[\\u0300-\\u036f]+', r'\\1', \n",
    "            normalize( \"NFD\", string.lower()), 0, re.I) for string in comunas]\n",
    "comunas2 = [drop_stopwords(string, stop_words) for string in comunas2]\n",
    "\n",
    "#se obtienen por separado los nombres de las comunas\n",
    "new_stopwords = []\n",
    "for komuna in comunas2:\n",
    "    new_stopwords = new_stopwords + word_tokenize(komuna)\n",
    "    \n",
    "#se agrega a lista stop_words las comunas como palabras separadas\n",
    "stop_words2 = stop_words + new_stopwords\n",
    "\n",
    "extras= ['experiencia','rm','verano','invierno','otono','primavera','full','part', 'time','remplazo','reemplazo','hombre',\n",
    "         'mujer','pm','am','sector','horas','as','turno','manana','tarde','noche','hombres','mujeres','lunes','martes',\n",
    "         'miercoles','jueves','viernes','sabado','domingo','hrs', \"norte\", \"sur\", \"centro\", \"a\", \"b\", \"c\", \"d\", \"e\", \"f\", \n",
    "         \"g\", \"h\", \"i\", \"l\", \"m\", \"n\", \"ñ\", \"o\", \"p\", \"q\", \"r\", \"s\", \"t\", \"u\", \"v\", \"w\", \"x\", \"y\", \"z\", \"diurno\", \"nocturno\",\n",
    "        \"ii\",\"iii\",\"iv\",\"v\",\"vi\",\"vii\",\"viii\",\"ix\",\"x\",\"xi\",\"xii\",\"xiii\",\"xiv\",\"xv\",\"xvi\"]\n",
    "\n",
    "stop_words3 = stop_words2 + extras"
   ]
  },
  {
   "cell_type": "markdown",
   "id": "93cbce54",
   "metadata": {},
   "source": [
    "## 3. Clasificación"
   ]
  },
  {
   "cell_type": "code",
   "execution_count": 18,
   "id": "49f11494",
   "metadata": {},
   "outputs": [],
   "source": [
    "x_train_final = limpia_texto(x_train[\"Titulo\"].tolist())\n",
    "x_test_final = limpia_texto(x_test.tolist())"
   ]
  },
  {
   "cell_type": "code",
   "execution_count": 19,
   "id": "c45d367d",
   "metadata": {},
   "outputs": [
    {
     "data": {
      "text/plain": [
       "['',\n",
       " 'abogadoa contraloria universitaria',\n",
       " 'abogadoa direccion juridica',\n",
       " 'analista estudiosestadistica',\n",
       " 'asistente bodega herramientas']"
      ]
     },
     "execution_count": 19,
     "metadata": {},
     "output_type": "execute_result"
    }
   ],
   "source": [
    "x_train_final[:5]"
   ]
  },
  {
   "cell_type": "code",
   "execution_count": 20,
   "id": "059c801f",
   "metadata": {},
   "outputs": [],
   "source": [
    "from sklearn.feature_extraction.text import TfidfVectorizer\n",
    "from sklearn.model_selection import train_test_split\n",
    "from sklearn.model_selection import cross_val_score, GridSearchCV\n",
    "from sklearn.metrics import accuracy_score, precision_score, recall_score, f1_score, roc_auc_score, confusion_matrix\n",
    "from sklearn.ensemble import RandomForestClassifier"
   ]
  },
  {
   "cell_type": "code",
   "execution_count": 21,
   "id": "72550b21",
   "metadata": {},
   "outputs": [],
   "source": [
    "#TF-IDF\n",
    "\n",
    "vectorizer = TfidfVectorizer(analyzer='word', ngram_range=(1,2), min_df=2)\n",
    "x_train_tf = vectorizer.fit_transform(x_train_final)\n",
    "x_test_tf = vectorizer.transform(x_test_final)"
   ]
  },
  {
   "cell_type": "code",
   "execution_count": 22,
   "id": "500db81d",
   "metadata": {},
   "outputs": [],
   "source": [
    "#Guardar vectorizer\n",
    "\n",
    "#pkl_filename = \"vector3.pkl\"\n",
    "\n",
    "#with open(pkl_filename, \"wb\") as file:\n",
    "#    pickle.dump(vectorizer, file)"
   ]
  },
  {
   "cell_type": "code",
   "execution_count": 23,
   "id": "8a2c405c",
   "metadata": {},
   "outputs": [],
   "source": [
    "#def model_metrics(model, xtr, ytr, xtest, ytest):\n",
    "#    mdl = model\n",
    "#    mdl.fit(xtr, ytr)\n",
    "#    y_pred = mdl.predict(xtest)\n",
    "#    \n",
    "#    acc = round(mdl.score(xtest, ytest), 2)\n",
    "#    prec = round(precision_score(ytest, y_pred, average=\"macro\"), 2)\n",
    "#    rec = round(recall_score(ytest, y_pred, average=\"macro\"), 2)\n",
    "#\n",
    "#    print(\"Accuracy: \"+str(acc)+\", precision: \"+str(prec)+\", recall: \"+str(rec))"
   ]
  },
  {
   "cell_type": "code",
   "execution_count": 24,
   "id": "63787bc3",
   "metadata": {},
   "outputs": [],
   "source": [
    "y_data = x_train[\"g\"]\n",
    "\n",
    "x_train, x_val, y_train, y_val = train_test_split(x_train_tf, y_data, test_size=0.2, random_state=12)"
   ]
  },
  {
   "cell_type": "code",
   "execution_count": 25,
   "id": "4913ad80",
   "metadata": {},
   "outputs": [
    {
     "data": {
      "text/plain": [
       "<AxesSubplot:xlabel='g', ylabel='count'>"
      ]
     },
     "execution_count": 25,
     "metadata": {},
     "output_type": "execute_result"
    },
    {
     "data": {
      "image/png": "[encoded data removed]",
      "text/plain": [
       "<Figure size 1080x288 with 1 Axes>"
      ]
     },
     "metadata": {
      "needs_background": "light"
     },
     "output_type": "display_data"
    }
   ],
   "source": [
    "plt.figure(figsize=(15,4))\n",
    "sns.countplot(x=\"g\", data=pd.DataFrame(y_train)) #.sort_values(\"g\"))"
   ]
  },
  {
   "cell_type": "code",
   "execution_count": 26,
   "id": "d0c73988",
   "metadata": {},
   "outputs": [
    {
     "data": {
      "text/plain": [
       "XGBClassifier(base_score=0.5, booster='gbtree', callbacks=None,\n",
       "              colsample_bylevel=1, colsample_bynode=1, colsample_bytree=1,\n",
       "              early_stopping_rounds=None, enable_categorical=False,\n",
       "              eval_metric=None, gamma=0, gpu_id=-1, grow_policy='depthwise',\n",
       "              importance_type=None, interaction_constraints='',\n",
       "              learning_rate=0.300000012, max_bin=256, max_cat_to_onehot=4,\n",
       "              max_delta_step=0, max_depth=6, max_leaves=0, min_child_weight=1,\n",
       "              missing=nan, monotone_constraints='()', n_estimators=100,\n",
       "              n_jobs=0, num_parallel_tree=1, objective='multi:softprob',\n",
       "              predictor='auto', random_state=0, reg_alpha=0, ...)"
      ]
     },
     "execution_count": 26,
     "metadata": {},
     "output_type": "execute_result"
    }
   ],
   "source": [
    "#model_metrics(RandomForestClassifier(), xtr=x_train, ytr=y_train, xtest=x_val, ytest=y_val)\n",
    "from xgboost import XGBClassifier\n",
    "\n",
    "xgb = XGBClassifier()\n",
    "xgb.fit(x_train, y_train)"
   ]
  },
  {
   "cell_type": "code",
   "execution_count": 34,
   "id": "5d16bdb3",
   "metadata": {},
   "outputs": [
    {
     "data": {
      "text/plain": [
       "array([0.84110627, 0.8452844 , 0.84131895])"
      ]
     },
     "execution_count": 34,
     "metadata": {},
     "output_type": "execute_result"
    }
   ],
   "source": [
    "cross_val_score(xgb, x_train, y_train, cv=3)"
   ]
  },
  {
   "cell_type": "markdown",
   "id": "6c70b6f8",
   "metadata": {},
   "source": [
    "GridSearch"
   ]
  },
  {
   "cell_type": "code",
   "execution_count": null,
   "id": "466f5e10",
   "metadata": {},
   "outputs": [
    {
     "name": "stdout",
     "output_type": "stream",
     "text": [
      "Fitting 3 folds for each of 16 candidates, totalling 48 fits\n"
     ]
    },
    {
     "name": "stderr",
     "output_type": "stream",
     "text": [
      "[Parallel(n_jobs=1)]: Using backend SequentialBackend with 1 concurrent workers.\n"
     ]
    }
   ],
   "source": [
    "params = { 'max_depth': [6,10],\n",
    "           'learning_rate': [0.3, 0.4],\n",
    "           'n_estimators': [100, 500],\n",
    "           'colsample_bytree': [0.5, 0.7]}\n",
    "\n",
    "xgbr = XGBClassifier(seed = 20)\n",
    "\n",
    "clf = GridSearchCV(estimator=xgbr, \n",
    "                   param_grid=params,\n",
    "                   scoring='accuracy', \n",
    "                   verbose=1, cv=3)\n",
    "\n",
    "clf.fit(x_train, y_train)"
   ]
  },
  {
   "cell_type": "markdown",
   "id": "99920572",
   "metadata": {},
   "source": [
    "#### Predicción test set"
   ]
  },
  {
   "cell_type": "markdown",
   "id": "710a7d40",
   "metadata": {},
   "source": [
    "Se guarda el clasificador"
   ]
  },
  {
   "cell_type": "code",
   "execution_count": 27,
   "id": "f5397e9c",
   "metadata": {},
   "outputs": [],
   "source": [
    "#Se guarda el modelo\n",
    "#import pickle\n",
    "\n",
    "#pkl_filename = \"rf3.pkl\"\n",
    "\n",
    "#with open(pkl_filename, \"wb\") as file:\n",
    "#    pickle.dump(rf, file)"
   ]
  },
  {
   "cell_type": "code",
   "execution_count": 28,
   "id": "c271f209",
   "metadata": {},
   "outputs": [
    {
     "data": {
      "text/plain": [
       "0.8503426560474162"
      ]
     },
     "execution_count": 28,
     "metadata": {},
     "output_type": "execute_result"
    }
   ],
   "source": [
    "xgb.score(x_val, y_val)"
   ]
  },
  {
   "cell_type": "code",
   "execution_count": 30,
   "id": "fe23fe58",
   "metadata": {},
   "outputs": [],
   "source": [
    "y_pred = xgb.predict(x_val)"
   ]
  },
  {
   "cell_type": "code",
   "execution_count": 31,
   "id": "6dc662ee",
   "metadata": {},
   "outputs": [
    {
     "data": {
      "text/plain": [
       "0.878"
      ]
     },
     "execution_count": 31,
     "metadata": {},
     "output_type": "execute_result"
    }
   ],
   "source": [
    "round(precision_score(y_val, y_pred, average=\"macro\"), 3)"
   ]
  },
  {
   "cell_type": "code",
   "execution_count": 32,
   "id": "80a2626f",
   "metadata": {},
   "outputs": [
    {
     "data": {
      "text/plain": [
       "0.851"
      ]
     },
     "execution_count": 32,
     "metadata": {},
     "output_type": "execute_result"
    }
   ],
   "source": [
    "round(f1_score(y_val, y_pred, average=\"macro\"), 3)"
   ]
  },
  {
   "cell_type": "code",
   "execution_count": 33,
   "id": "b35c1139",
   "metadata": {},
   "outputs": [
    {
     "data": {
      "text/plain": [
       "0.833"
      ]
     },
     "execution_count": 33,
     "metadata": {},
     "output_type": "execute_result"
    }
   ],
   "source": [
    "round(recall_score(y_val, y_pred, average=\"macro\"), 3)"
   ]
  },
  {
   "cell_type": "code",
   "execution_count": 101,
   "id": "125e0d24",
   "metadata": {},
   "outputs": [
    {
     "data": {
      "text/plain": [
       "array([[ 1416,     0,    25,    18,    11,    10,     0,     3,     0,\n",
       "            0,     0],\n",
       "       [    0,  2539,   101,    31,    35,    51,     1,     4,     0,\n",
       "            4,     1],\n",
       "       [    3,   131, 11220,   256,   171,   237,     1,    22,    16,\n",
       "           21,     4],\n",
       "       [    2,    47,   359,  8560,   369,   294,     0,    35,    23,\n",
       "           68,     3],\n",
       "       [   10,    32,   185,   172,  9266,   285,     1,   143,    70,\n",
       "          137,     8],\n",
       "       [    0,   106,   101,   141,   182,  9735,     1,    16,    38,\n",
       "           88,    19],\n",
       "       [    0,     1,     2,     2,     4,    15,    52,     1,     0,\n",
       "            3,     1],\n",
       "       [    0,     6,    49,   110,    88,   146,     0,  3303,    22,\n",
       "           79,     3],\n",
       "       [    0,     2,    21,    18,    24,    71,     0,    52,  2747,\n",
       "           27,     0],\n",
       "       [    0,     3,    33,    40,   121,   200,     1,    89,    33,\n",
       "         4737,     9],\n",
       "       [    0,     0,    10,     5,     7,    65,     0,     1,     3,\n",
       "            7,   348]], dtype=int64)"
      ]
     },
     "execution_count": 101,
     "metadata": {},
     "output_type": "execute_result"
    }
   ],
   "source": [
    "confusion_matrix(y_val, y_pred)"
   ]
  },
  {
   "cell_type": "markdown",
   "id": "be8b63e9",
   "metadata": {},
   "source": [
    "Creación de dataframe"
   ]
  },
  {
   "cell_type": "code",
   "execution_count": 44,
   "id": "a73fae84",
   "metadata": {},
   "outputs": [],
   "source": [
    "df_final = round(pd.DataFrame(y_pred_prob), 2)\n",
    "\n",
    "df_final = pd.concat([pd.DataFrame(x_test_final).rename(columns={0:\"descripcion\"}), df_final], axis=1)"
   ]
  },
  {
   "cell_type": "code",
   "execution_count": null,
   "id": "25497afc",
   "metadata": {},
   "outputs": [],
   "source": [
    "#-------------------------------------"
   ]
  },
  {
   "cell_type": "code",
   "execution_count": 46,
   "id": "5f52246b",
   "metadata": {},
   "outputs": [],
   "source": [
    "y_pred2 = rf.predict(x_test_tf)"
   ]
  },
  {
   "cell_type": "code",
   "execution_count": 47,
   "id": "b4c88fa8",
   "metadata": {},
   "outputs": [],
   "source": [
    "df_final2 = round(pd.DataFrame(y_pred2), 2)\n",
    "\n",
    "df_final2 = pd.concat([pd.DataFrame(x_test_final).rename(columns={0:\"descripcion\"}), df_final2], axis=1)"
   ]
  },
  {
   "cell_type": "code",
   "execution_count": null,
   "id": "9b1811f0",
   "metadata": {},
   "outputs": [],
   "source": [
    "#-------------------------------------"
   ]
  },
  {
   "cell_type": "code",
   "execution_count": 80,
   "id": "693bc74d",
   "metadata": {},
   "outputs": [],
   "source": [
    "lista = []\n",
    "\n",
    "for i in range(0,len(df_final)):\n",
    "    if len(df_final.iloc[i,:][1:][df_final.iloc[i,:][1:]>=0.4]) > 0:\n",
    "        lista = lista + [(df_final.iloc[i,:][1:][df_final.iloc[i,:][1:]>=0.4]).index[0]]\n",
    "    else:\n",
    "        lista = lista + [99]"
   ]
  },
  {
   "cell_type": "code",
   "execution_count": 81,
   "id": "0fbb753a",
   "metadata": {
    "scrolled": true
   },
   "outputs": [],
   "source": [
    "df_final[\"grupo\"] = lista"
   ]
  },
  {
   "cell_type": "code",
   "execution_count": 109,
   "id": "587e37fc",
   "metadata": {},
   "outputs": [
    {
     "data": {
      "text/html": [
       "<div>\n",
       "<style scoped>\n",
       "    .dataframe tbody tr th:only-of-type {\n",
       "        vertical-align: middle;\n",
       "    }\n",
       "\n",
       "    .dataframe tbody tr th {\n",
       "        vertical-align: top;\n",
       "    }\n",
       "\n",
       "    .dataframe thead th {\n",
       "        text-align: right;\n",
       "    }\n",
       "</style>\n",
       "<table border=\"1\" class=\"dataframe\">\n",
       "  <thead>\n",
       "    <tr style=\"text-align: right;\">\n",
       "      <th></th>\n",
       "      <th>descripcion</th>\n",
       "      <th>0</th>\n",
       "    </tr>\n",
       "  </thead>\n",
       "  <tbody>\n",
       "    <tr>\n",
       "      <th>0</th>\n",
       "      <td>practica profesional psicologia</td>\n",
       "      <td>0</td>\n",
       "    </tr>\n",
       "    <tr>\n",
       "      <th>1</th>\n",
       "      <td>asistente bodega</td>\n",
       "      <td>4</td>\n",
       "    </tr>\n",
       "    <tr>\n",
       "      <th>2</th>\n",
       "      <td>agente mesa ayuda</td>\n",
       "      <td>3</td>\n",
       "    </tr>\n",
       "    <tr>\n",
       "      <th>3</th>\n",
       "      <td>asistente alumnos tecnico secretariao</td>\n",
       "      <td>3</td>\n",
       "    </tr>\n",
       "    <tr>\n",
       "      <th>4</th>\n",
       "      <td>jefea refactoring decoupling rpa</td>\n",
       "      <td>2</td>\n",
       "    </tr>\n",
       "    <tr>\n",
       "      <th>...</th>\n",
       "      <td>...</td>\n",
       "      <td>...</td>\n",
       "    </tr>\n",
       "    <tr>\n",
       "      <th>25271</th>\n",
       "      <td>tecnicoa mecanicoa camiones</td>\n",
       "      <td>3</td>\n",
       "    </tr>\n",
       "    <tr>\n",
       "      <th>25272</th>\n",
       "      <td>coordinadora home delivery in house</td>\n",
       "      <td>8</td>\n",
       "    </tr>\n",
       "    <tr>\n",
       "      <th>25273</th>\n",
       "      <td>higienista prevencion</td>\n",
       "      <td>3</td>\n",
       "    </tr>\n",
       "    <tr>\n",
       "      <th>25274</th>\n",
       "      <td>ingeniero procesos</td>\n",
       "      <td>2</td>\n",
       "    </tr>\n",
       "    <tr>\n",
       "      <th>25275</th>\n",
       "      <td>electrico mantencion</td>\n",
       "      <td>7</td>\n",
       "    </tr>\n",
       "  </tbody>\n",
       "</table>\n",
       "<p>25276 rows × 2 columns</p>\n",
       "</div>"
      ],
      "text/plain": [
       "                                 descripcion  0\n",
       "0            practica profesional psicologia  0\n",
       "1                           asistente bodega  4\n",
       "2                          agente mesa ayuda  3\n",
       "3      asistente alumnos tecnico secretariao  3\n",
       "4           jefea refactoring decoupling rpa  2\n",
       "...                                      ... ..\n",
       "25271            tecnicoa mecanicoa camiones  3\n",
       "25272    coordinadora home delivery in house  8\n",
       "25273                  higienista prevencion  3\n",
       "25274                     ingeniero procesos  2\n",
       "25275                   electrico mantencion  7\n",
       "\n",
       "[25276 rows x 2 columns]"
      ]
     },
     "execution_count": 109,
     "metadata": {},
     "output_type": "execute_result"
    }
   ],
   "source": [
    "df_final2"
   ]
  },
  {
   "cell_type": "code",
   "execution_count": 103,
   "id": "ff47f928",
   "metadata": {},
   "outputs": [
    {
     "data": {
      "text/plain": [
       "<AxesSubplot:xlabel='0', ylabel='count'>"
      ]
     },
     "execution_count": 103,
     "metadata": {},
     "output_type": "execute_result"
    },
    {
     "data": {
      "image/png": "[encoded data removed]",
      "text/plain": [
       "<Figure size 1080x288 with 1 Axes>"
      ]
     },
     "metadata": {
      "needs_background": "light"
     },
     "output_type": "display_data"
    }
   ],
   "source": [
    "plt.figure(figsize=(15,4))\n",
    "sns.countplot(x=0, data=df_final2)"
   ]
  },
  {
   "cell_type": "code",
   "execution_count": 106,
   "id": "46ed1dde",
   "metadata": {},
   "outputs": [],
   "source": [
    "# plt.figure(figsize=(15,4))\n",
    "# sns.countplot(x=\"g\", data=df_final)"
   ]
  },
  {
   "cell_type": "code",
   "execution_count": 110,
   "id": "eec9cf91",
   "metadata": {},
   "outputs": [
    {
     "name": "stdout",
     "output_type": "stream",
     "text": [
      "porcentaje de no clasificados: 0.4%\n"
     ]
    }
   ],
   "source": [
    "print(\"porcentaje de no clasificados: \"+str(round(len(df_final2[df_final2[0]==10])/len(df_final2)*100, 1)) + \"%\")"
   ]
  },
  {
   "cell_type": "code",
   "execution_count": 85,
   "id": "4c675b65",
   "metadata": {},
   "outputs": [
    {
     "data": {
      "text/html": [
       "<div>\n",
       "<style scoped>\n",
       "    .dataframe tbody tr th:only-of-type {\n",
       "        vertical-align: middle;\n",
       "    }\n",
       "\n",
       "    .dataframe tbody tr th {\n",
       "        vertical-align: top;\n",
       "    }\n",
       "\n",
       "    .dataframe thead th {\n",
       "        text-align: right;\n",
       "    }\n",
       "</style>\n",
       "<table border=\"1\" class=\"dataframe\">\n",
       "  <thead>\n",
       "    <tr style=\"text-align: right;\">\n",
       "      <th></th>\n",
       "      <th>descripcion</th>\n",
       "      <th>0</th>\n",
       "      <th>1</th>\n",
       "      <th>2</th>\n",
       "      <th>3</th>\n",
       "      <th>4</th>\n",
       "      <th>5</th>\n",
       "      <th>6</th>\n",
       "      <th>7</th>\n",
       "      <th>8</th>\n",
       "      <th>9</th>\n",
       "      <th>grupo</th>\n",
       "    </tr>\n",
       "  </thead>\n",
       "  <tbody>\n",
       "    <tr>\n",
       "      <th>2635</th>\n",
       "      <td>asistente agricola</td>\n",
       "      <td>0.0</td>\n",
       "      <td>0.02</td>\n",
       "      <td>0.00</td>\n",
       "      <td>0.05</td>\n",
       "      <td>0.20</td>\n",
       "      <td>0.02</td>\n",
       "      <td>0.71</td>\n",
       "      <td>0.00</td>\n",
       "      <td>0.00</td>\n",
       "      <td>0.00</td>\n",
       "      <td>6</td>\n",
       "    </tr>\n",
       "    <tr>\n",
       "      <th>7682</th>\n",
       "      <td>jardinero</td>\n",
       "      <td>0.0</td>\n",
       "      <td>0.00</td>\n",
       "      <td>0.00</td>\n",
       "      <td>0.00</td>\n",
       "      <td>0.00</td>\n",
       "      <td>0.00</td>\n",
       "      <td>1.00</td>\n",
       "      <td>0.00</td>\n",
       "      <td>0.00</td>\n",
       "      <td>0.00</td>\n",
       "      <td>6</td>\n",
       "    </tr>\n",
       "    <tr>\n",
       "      <th>7687</th>\n",
       "      <td>jardinero folio</td>\n",
       "      <td>0.0</td>\n",
       "      <td>0.00</td>\n",
       "      <td>0.00</td>\n",
       "      <td>0.00</td>\n",
       "      <td>0.00</td>\n",
       "      <td>0.00</td>\n",
       "      <td>1.00</td>\n",
       "      <td>0.00</td>\n",
       "      <td>0.00</td>\n",
       "      <td>0.00</td>\n",
       "      <td>6</td>\n",
       "    </tr>\n",
       "    <tr>\n",
       "      <th>8140</th>\n",
       "      <td>jardinero folio</td>\n",
       "      <td>0.0</td>\n",
       "      <td>0.00</td>\n",
       "      <td>0.00</td>\n",
       "      <td>0.00</td>\n",
       "      <td>0.00</td>\n",
       "      <td>0.00</td>\n",
       "      <td>1.00</td>\n",
       "      <td>0.00</td>\n",
       "      <td>0.00</td>\n",
       "      <td>0.00</td>\n",
       "      <td>6</td>\n",
       "    </tr>\n",
       "    <tr>\n",
       "      <th>15132</th>\n",
       "      <td>jardinero tractorista</td>\n",
       "      <td>0.0</td>\n",
       "      <td>0.00</td>\n",
       "      <td>0.00</td>\n",
       "      <td>0.00</td>\n",
       "      <td>0.00</td>\n",
       "      <td>0.00</td>\n",
       "      <td>1.00</td>\n",
       "      <td>0.00</td>\n",
       "      <td>0.00</td>\n",
       "      <td>0.00</td>\n",
       "      <td>6</td>\n",
       "    </tr>\n",
       "    <tr>\n",
       "      <th>16484</th>\n",
       "      <td>jardinero</td>\n",
       "      <td>0.0</td>\n",
       "      <td>0.00</td>\n",
       "      <td>0.00</td>\n",
       "      <td>0.00</td>\n",
       "      <td>0.00</td>\n",
       "      <td>0.00</td>\n",
       "      <td>1.00</td>\n",
       "      <td>0.00</td>\n",
       "      <td>0.00</td>\n",
       "      <td>0.00</td>\n",
       "      <td>6</td>\n",
       "    </tr>\n",
       "    <tr>\n",
       "      <th>16487</th>\n",
       "      <td>cod dcl trabajador agricola predio villucura</td>\n",
       "      <td>0.0</td>\n",
       "      <td>0.01</td>\n",
       "      <td>0.04</td>\n",
       "      <td>0.04</td>\n",
       "      <td>0.04</td>\n",
       "      <td>0.07</td>\n",
       "      <td>0.72</td>\n",
       "      <td>0.00</td>\n",
       "      <td>0.00</td>\n",
       "      <td>0.07</td>\n",
       "      <td>6</td>\n",
       "    </tr>\n",
       "    <tr>\n",
       "      <th>17770</th>\n",
       "      <td>jardinerola</td>\n",
       "      <td>0.0</td>\n",
       "      <td>0.00</td>\n",
       "      <td>0.05</td>\n",
       "      <td>0.05</td>\n",
       "      <td>0.06</td>\n",
       "      <td>0.07</td>\n",
       "      <td>0.69</td>\n",
       "      <td>0.03</td>\n",
       "      <td>0.02</td>\n",
       "      <td>0.03</td>\n",
       "      <td>6</td>\n",
       "    </tr>\n",
       "    <tr>\n",
       "      <th>21438</th>\n",
       "      <td>jardinero fr</td>\n",
       "      <td>0.0</td>\n",
       "      <td>0.00</td>\n",
       "      <td>0.00</td>\n",
       "      <td>0.00</td>\n",
       "      <td>0.00</td>\n",
       "      <td>0.00</td>\n",
       "      <td>1.00</td>\n",
       "      <td>0.00</td>\n",
       "      <td>0.00</td>\n",
       "      <td>0.00</td>\n",
       "      <td>6</td>\n",
       "    </tr>\n",
       "    <tr>\n",
       "      <th>22481</th>\n",
       "      <td>jardinero fijo dia</td>\n",
       "      <td>0.0</td>\n",
       "      <td>0.00</td>\n",
       "      <td>0.04</td>\n",
       "      <td>0.02</td>\n",
       "      <td>0.08</td>\n",
       "      <td>0.04</td>\n",
       "      <td>0.63</td>\n",
       "      <td>0.09</td>\n",
       "      <td>0.10</td>\n",
       "      <td>0.01</td>\n",
       "      <td>6</td>\n",
       "    </tr>\n",
       "  </tbody>\n",
       "</table>\n",
       "</div>"
      ],
      "text/plain": [
       "                                        descripcion    0     1     2     3  \\\n",
       "2635                             asistente agricola  0.0  0.02  0.00  0.05   \n",
       "7682                                      jardinero  0.0  0.00  0.00  0.00   \n",
       "7687                                jardinero folio  0.0  0.00  0.00  0.00   \n",
       "8140                                jardinero folio  0.0  0.00  0.00  0.00   \n",
       "15132                         jardinero tractorista  0.0  0.00  0.00  0.00   \n",
       "16484                                     jardinero  0.0  0.00  0.00  0.00   \n",
       "16487  cod dcl trabajador agricola predio villucura  0.0  0.01  0.04  0.04   \n",
       "17770                                   jardinerola  0.0  0.00  0.05  0.05   \n",
       "21438                                  jardinero fr  0.0  0.00  0.00  0.00   \n",
       "22481                            jardinero fijo dia  0.0  0.00  0.04  0.02   \n",
       "\n",
       "          4     5     6     7     8     9  grupo  \n",
       "2635   0.20  0.02  0.71  0.00  0.00  0.00      6  \n",
       "7682   0.00  0.00  1.00  0.00  0.00  0.00      6  \n",
       "7687   0.00  0.00  1.00  0.00  0.00  0.00      6  \n",
       "8140   0.00  0.00  1.00  0.00  0.00  0.00      6  \n",
       "15132  0.00  0.00  1.00  0.00  0.00  0.00      6  \n",
       "16484  0.00  0.00  1.00  0.00  0.00  0.00      6  \n",
       "16487  0.04  0.07  0.72  0.00  0.00  0.07      6  \n",
       "17770  0.06  0.07  0.69  0.03  0.02  0.03      6  \n",
       "21438  0.00  0.00  1.00  0.00  0.00  0.00      6  \n",
       "22481  0.08  0.04  0.63  0.09  0.10  0.01      6  "
      ]
     },
     "execution_count": 85,
     "metadata": {},
     "output_type": "execute_result"
    }
   ],
   "source": [
    "df_final[df_final[\"grupo\"]==6]"
   ]
  },
  {
   "cell_type": "code",
   "execution_count": 86,
   "id": "ca33a5da",
   "metadata": {},
   "outputs": [
    {
     "data": {
      "text/html": [
       "<div>\n",
       "<style scoped>\n",
       "    .dataframe tbody tr th:only-of-type {\n",
       "        vertical-align: middle;\n",
       "    }\n",
       "\n",
       "    .dataframe tbody tr th {\n",
       "        vertical-align: top;\n",
       "    }\n",
       "\n",
       "    .dataframe thead th {\n",
       "        text-align: right;\n",
       "    }\n",
       "</style>\n",
       "<table border=\"1\" class=\"dataframe\">\n",
       "  <thead>\n",
       "    <tr style=\"text-align: right;\">\n",
       "      <th></th>\n",
       "      <th>descripcion</th>\n",
       "      <th>0</th>\n",
       "      <th>1</th>\n",
       "      <th>2</th>\n",
       "      <th>3</th>\n",
       "      <th>4</th>\n",
       "      <th>5</th>\n",
       "      <th>6</th>\n",
       "      <th>7</th>\n",
       "      <th>8</th>\n",
       "      <th>9</th>\n",
       "      <th>grupo</th>\n",
       "    </tr>\n",
       "  </thead>\n",
       "  <tbody>\n",
       "    <tr>\n",
       "      <th>332</th>\n",
       "      <td>houseman</td>\n",
       "      <td>0.00</td>\n",
       "      <td>0.01</td>\n",
       "      <td>0.17</td>\n",
       "      <td>0.15</td>\n",
       "      <td>0.18</td>\n",
       "      <td>0.22</td>\n",
       "      <td>0.01</td>\n",
       "      <td>0.10</td>\n",
       "      <td>0.05</td>\n",
       "      <td>0.11</td>\n",
       "      <td>99</td>\n",
       "    </tr>\n",
       "    <tr>\n",
       "      <th>422</th>\n",
       "      <td>operativo importaciones maritimas</td>\n",
       "      <td>0.00</td>\n",
       "      <td>0.01</td>\n",
       "      <td>0.13</td>\n",
       "      <td>0.11</td>\n",
       "      <td>0.21</td>\n",
       "      <td>0.19</td>\n",
       "      <td>0.00</td>\n",
       "      <td>0.27</td>\n",
       "      <td>0.04</td>\n",
       "      <td>0.04</td>\n",
       "      <td>99</td>\n",
       "    </tr>\n",
       "    <tr>\n",
       "      <th>535</th>\n",
       "      <td>suscriptor abierto ley</td>\n",
       "      <td>0.00</td>\n",
       "      <td>0.01</td>\n",
       "      <td>0.20</td>\n",
       "      <td>0.14</td>\n",
       "      <td>0.23</td>\n",
       "      <td>0.21</td>\n",
       "      <td>0.01</td>\n",
       "      <td>0.08</td>\n",
       "      <td>0.04</td>\n",
       "      <td>0.09</td>\n",
       "      <td>99</td>\n",
       "    </tr>\n",
       "    <tr>\n",
       "      <th>786</th>\n",
       "      <td>dispatcher</td>\n",
       "      <td>0.00</td>\n",
       "      <td>0.01</td>\n",
       "      <td>0.17</td>\n",
       "      <td>0.15</td>\n",
       "      <td>0.18</td>\n",
       "      <td>0.22</td>\n",
       "      <td>0.01</td>\n",
       "      <td>0.10</td>\n",
       "      <td>0.05</td>\n",
       "      <td>0.11</td>\n",
       "      <td>99</td>\n",
       "    </tr>\n",
       "    <tr>\n",
       "      <th>904</th>\n",
       "      <td>trainee industrial region</td>\n",
       "      <td>0.01</td>\n",
       "      <td>0.03</td>\n",
       "      <td>0.29</td>\n",
       "      <td>0.19</td>\n",
       "      <td>0.14</td>\n",
       "      <td>0.05</td>\n",
       "      <td>0.00</td>\n",
       "      <td>0.24</td>\n",
       "      <td>0.02</td>\n",
       "      <td>0.02</td>\n",
       "      <td>99</td>\n",
       "    </tr>\n",
       "    <tr>\n",
       "      <th>...</th>\n",
       "      <td>...</td>\n",
       "      <td>...</td>\n",
       "      <td>...</td>\n",
       "      <td>...</td>\n",
       "      <td>...</td>\n",
       "      <td>...</td>\n",
       "      <td>...</td>\n",
       "      <td>...</td>\n",
       "      <td>...</td>\n",
       "      <td>...</td>\n",
       "      <td>...</td>\n",
       "      <td>...</td>\n",
       "    </tr>\n",
       "    <tr>\n",
       "      <th>24879</th>\n",
       "      <td>asistentes cuentas pagar</td>\n",
       "      <td>0.01</td>\n",
       "      <td>0.00</td>\n",
       "      <td>0.12</td>\n",
       "      <td>0.33</td>\n",
       "      <td>0.39</td>\n",
       "      <td>0.10</td>\n",
       "      <td>0.00</td>\n",
       "      <td>0.00</td>\n",
       "      <td>0.01</td>\n",
       "      <td>0.04</td>\n",
       "      <td>99</td>\n",
       "    </tr>\n",
       "    <tr>\n",
       "      <th>24898</th>\n",
       "      <td>preparador muestras</td>\n",
       "      <td>0.00</td>\n",
       "      <td>0.00</td>\n",
       "      <td>0.06</td>\n",
       "      <td>0.22</td>\n",
       "      <td>0.34</td>\n",
       "      <td>0.16</td>\n",
       "      <td>0.00</td>\n",
       "      <td>0.08</td>\n",
       "      <td>0.08</td>\n",
       "      <td>0.06</td>\n",
       "      <td>99</td>\n",
       "    </tr>\n",
       "    <tr>\n",
       "      <th>24933</th>\n",
       "      <td>fonoaudiologaotemuco</td>\n",
       "      <td>0.00</td>\n",
       "      <td>0.01</td>\n",
       "      <td>0.17</td>\n",
       "      <td>0.15</td>\n",
       "      <td>0.18</td>\n",
       "      <td>0.22</td>\n",
       "      <td>0.01</td>\n",
       "      <td>0.10</td>\n",
       "      <td>0.05</td>\n",
       "      <td>0.11</td>\n",
       "      <td>99</td>\n",
       "    </tr>\n",
       "    <tr>\n",
       "      <th>25188</th>\n",
       "      <td>cod cx specialist</td>\n",
       "      <td>0.00</td>\n",
       "      <td>0.00</td>\n",
       "      <td>0.34</td>\n",
       "      <td>0.20</td>\n",
       "      <td>0.04</td>\n",
       "      <td>0.11</td>\n",
       "      <td>0.00</td>\n",
       "      <td>0.02</td>\n",
       "      <td>0.05</td>\n",
       "      <td>0.24</td>\n",
       "      <td>99</td>\n",
       "    </tr>\n",
       "    <tr>\n",
       "      <th>25193</th>\n",
       "      <td>jef oficina revalidacion reconocimiento titulo...</td>\n",
       "      <td>0.00</td>\n",
       "      <td>0.16</td>\n",
       "      <td>0.13</td>\n",
       "      <td>0.37</td>\n",
       "      <td>0.16</td>\n",
       "      <td>0.11</td>\n",
       "      <td>0.00</td>\n",
       "      <td>0.02</td>\n",
       "      <td>0.01</td>\n",
       "      <td>0.04</td>\n",
       "      <td>99</td>\n",
       "    </tr>\n",
       "  </tbody>\n",
       "</table>\n",
       "<p>598 rows × 12 columns</p>\n",
       "</div>"
      ],
      "text/plain": [
       "                                             descripcion     0     1     2  \\\n",
       "332                                             houseman  0.00  0.01  0.17   \n",
       "422                    operativo importaciones maritimas  0.00  0.01  0.13   \n",
       "535                               suscriptor abierto ley  0.00  0.01  0.20   \n",
       "786                                           dispatcher  0.00  0.01  0.17   \n",
       "904                            trainee industrial region  0.01  0.03  0.29   \n",
       "...                                                  ...   ...   ...   ...   \n",
       "24879                           asistentes cuentas pagar  0.01  0.00  0.12   \n",
       "24898                                preparador muestras  0.00  0.00  0.06   \n",
       "24933                               fonoaudiologaotemuco  0.00  0.01  0.17   \n",
       "25188                                  cod cx specialist  0.00  0.00  0.34   \n",
       "25193  jef oficina revalidacion reconocimiento titulo...  0.00  0.16  0.13   \n",
       "\n",
       "          3     4     5     6     7     8     9  grupo  \n",
       "332    0.15  0.18  0.22  0.01  0.10  0.05  0.11     99  \n",
       "422    0.11  0.21  0.19  0.00  0.27  0.04  0.04     99  \n",
       "535    0.14  0.23  0.21  0.01  0.08  0.04  0.09     99  \n",
       "786    0.15  0.18  0.22  0.01  0.10  0.05  0.11     99  \n",
       "904    0.19  0.14  0.05  0.00  0.24  0.02  0.02     99  \n",
       "...     ...   ...   ...   ...   ...   ...   ...    ...  \n",
       "24879  0.33  0.39  0.10  0.00  0.00  0.01  0.04     99  \n",
       "24898  0.22  0.34  0.16  0.00  0.08  0.08  0.06     99  \n",
       "24933  0.15  0.18  0.22  0.01  0.10  0.05  0.11     99  \n",
       "25188  0.20  0.04  0.11  0.00  0.02  0.05  0.24     99  \n",
       "25193  0.37  0.16  0.11  0.00  0.02  0.01  0.04     99  \n",
       "\n",
       "[598 rows x 12 columns]"
      ]
     },
     "execution_count": 86,
     "metadata": {},
     "output_type": "execute_result"
    }
   ],
   "source": [
    "df_final[df_final[\"grupo\"]==99]"
   ]
  },
  {
   "cell_type": "markdown",
   "id": "69e32670",
   "metadata": {},
   "source": [
    "### Xgboost"
   ]
  },
  {
   "cell_type": "code",
   "execution_count": null,
   "id": "7e7556e8",
   "metadata": {},
   "outputs": [],
   "source": []
  },
  {
   "cell_type": "code",
   "execution_count": null,
   "id": "039a762a",
   "metadata": {},
   "outputs": [],
   "source": []
  },
  {
   "cell_type": "markdown",
   "id": "033a652c",
   "metadata": {},
   "source": [
    "### FastText"
   ]
  },
  {
   "cell_type": "code",
   "execution_count": null,
   "id": "e18faaef",
   "metadata": {},
   "outputs": [],
   "source": []
  }
 ],
 "metadata": {
  "kernelspec": {
   "display_name": "Python 3",
   "language": "python",
   "name": "python3"
  },
  "language_info": {
   "codemirror_mode": {
    "name": "ipython",
    "version": 3
   },
   "file_extension": ".py",
   "mimetype": "text/x-python",
   "name": "python",
   "nbconvert_exporter": "python",
   "pygments_lexer": "ipython3",
   "version": "3.8.3"
  }
 },
 "nbformat": 4,
 "nbformat_minor": 5
}
